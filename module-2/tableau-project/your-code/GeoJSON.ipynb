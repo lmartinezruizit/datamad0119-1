{
 "cells": [
  {
   "cell_type": "code",
   "execution_count": 22,
   "metadata": {},
   "outputs": [],
   "source": [
    "import pymongo\n",
    "MongoClient = pymongo.MongoClient\n",
    "client = MongoClient()\n",
    "db = client.restaurants"
   ]
  },
  {
   "cell_type": "code",
   "execution_count": 64,
   "metadata": {},
   "outputs": [],
   "source": [
    "def toGeoJSON(array):\n",
    "    return {\n",
    "        \"type\":\"Point\",\n",
    "        \"coordinates\":[array[0],array[1]]\n",
    "    }\n",
    "\n",
    "def convertRestaurant(restaurant):\n",
    "    return {\n",
    "        \"name\": restaurant[\"name\"],\n",
    "        \"cuisine\":restaurant[\"cuisine\"],\n",
    "        \"position\": toGeoJSON(restaurant[\"address\"][\"coord\"])\n",
    "    }\n",
    "\n",
    "cursor = db.restaurants.find({\"address.coord\":{\"$size\":2}},{\"_id\":0})\n",
    "geoRestaurants = list(map(lambda r: convertRestaurant(r),cursor))\n"
   ]
  },
  {
   "cell_type": "code",
   "execution_count": 65,
   "metadata": {},
   "outputs": [
    {
     "data": {
      "text/html": [
       "<div>\n",
       "<style scoped>\n",
       "    .dataframe tbody tr th:only-of-type {\n",
       "        vertical-align: middle;\n",
       "    }\n",
       "\n",
       "    .dataframe tbody tr th {\n",
       "        vertical-align: top;\n",
       "    }\n",
       "\n",
       "    .dataframe thead th {\n",
       "        text-align: right;\n",
       "    }\n",
       "</style>\n",
       "<table border=\"1\" class=\"dataframe\">\n",
       "  <thead>\n",
       "    <tr style=\"text-align: right;\">\n",
       "      <th></th>\n",
       "      <th>cuisine</th>\n",
       "      <th>name</th>\n",
       "      <th>position</th>\n",
       "    </tr>\n",
       "  </thead>\n",
       "  <tbody>\n",
       "    <tr>\n",
       "      <th>0</th>\n",
       "      <td>Hamburgers</td>\n",
       "      <td>Wendy'S</td>\n",
       "      <td>{'type': 'Point', 'coordinates': [-73.961704, ...</td>\n",
       "    </tr>\n",
       "    <tr>\n",
       "      <th>1</th>\n",
       "      <td>Irish</td>\n",
       "      <td>Dj Reynolds Pub And Restaurant</td>\n",
       "      <td>{'type': 'Point', 'coordinates': [-73.98513559...</td>\n",
       "    </tr>\n",
       "    <tr>\n",
       "      <th>2</th>\n",
       "      <td>American</td>\n",
       "      <td>Riviera Caterer</td>\n",
       "      <td>{'type': 'Point', 'coordinates': [-73.98241999...</td>\n",
       "    </tr>\n",
       "    <tr>\n",
       "      <th>3</th>\n",
       "      <td>Jewish/Kosher</td>\n",
       "      <td>Tov Kosher Kitchen</td>\n",
       "      <td>{'type': 'Point', 'coordinates': [-73.8601152,...</td>\n",
       "    </tr>\n",
       "    <tr>\n",
       "      <th>4</th>\n",
       "      <td>American</td>\n",
       "      <td>Brunos On The Boulevard</td>\n",
       "      <td>{'type': 'Point', 'coordinates': [-73.8803827,...</td>\n",
       "    </tr>\n",
       "  </tbody>\n",
       "</table>\n",
       "</div>"
      ],
      "text/plain": [
       "         cuisine                            name  \\\n",
       "0     Hamburgers                         Wendy'S   \n",
       "1          Irish  Dj Reynolds Pub And Restaurant   \n",
       "2       American                 Riviera Caterer   \n",
       "3  Jewish/Kosher              Tov Kosher Kitchen   \n",
       "4       American         Brunos On The Boulevard   \n",
       "\n",
       "                                            position  \n",
       "0  {'type': 'Point', 'coordinates': [-73.961704, ...  \n",
       "1  {'type': 'Point', 'coordinates': [-73.98513559...  \n",
       "2  {'type': 'Point', 'coordinates': [-73.98241999...  \n",
       "3  {'type': 'Point', 'coordinates': [-73.8601152,...  \n",
       "4  {'type': 'Point', 'coordinates': [-73.8803827,...  "
      ]
     },
     "execution_count": 65,
     "metadata": {},
     "output_type": "execute_result"
    }
   ],
   "source": [
    "import pandas as pd\n",
    "\n",
    "df = pd.DataFrame(geoRestaurants)\n",
    "df.head()"
   ]
  },
  {
   "cell_type": "code",
   "execution_count": 68,
   "metadata": {},
   "outputs": [],
   "source": [
    "df.to_json(\"rest_with_coords.json\", orient=\"records\", lines=True)"
   ]
  },
  {
   "cell_type": "code",
   "execution_count": 130,
   "metadata": {},
   "outputs": [
    {
     "data": {
      "text/html": [
       "<div>\n",
       "<style scoped>\n",
       "    .dataframe tbody tr th:only-of-type {\n",
       "        vertical-align: middle;\n",
       "    }\n",
       "\n",
       "    .dataframe tbody tr th {\n",
       "        vertical-align: top;\n",
       "    }\n",
       "\n",
       "    .dataframe thead th {\n",
       "        text-align: right;\n",
       "    }\n",
       "</style>\n",
       "<table border=\"1\" class=\"dataframe\">\n",
       "  <thead>\n",
       "    <tr style=\"text-align: right;\">\n",
       "      <th></th>\n",
       "      <th>_id</th>\n",
       "      <th>cuisine</th>\n",
       "      <th>name</th>\n",
       "      <th>position</th>\n",
       "    </tr>\n",
       "  </thead>\n",
       "  <tbody>\n",
       "    <tr>\n",
       "      <th>0</th>\n",
       "      <td>5c6692ad7cb9799ee5610be8</td>\n",
       "      <td>Italian</td>\n",
       "      <td>Blue</td>\n",
       "      <td>{'type': 'Point', 'coordinates': [-74.1077385,...</td>\n",
       "    </tr>\n",
       "    <tr>\n",
       "      <th>1</th>\n",
       "      <td>5c6692ad7cb9799ee5610882</td>\n",
       "      <td>Italian</td>\n",
       "      <td>Crispy Pizza</td>\n",
       "      <td>{'type': 'Point', 'coordinates': [-74.0982604,...</td>\n",
       "    </tr>\n",
       "    <tr>\n",
       "      <th>2</th>\n",
       "      <td>5c6692ad7cb9799ee560e28d</td>\n",
       "      <td>American</td>\n",
       "      <td>Ruth M Liedys Shore Inn</td>\n",
       "      <td>{'type': 'Point', 'coordinates': [-74.097056, ...</td>\n",
       "    </tr>\n",
       "    <tr>\n",
       "      <th>3</th>\n",
       "      <td>5c6692ad7cb9799ee56117d1</td>\n",
       "      <td>American</td>\n",
       "      <td>The Cuckoo'S Nest</td>\n",
       "      <td>{'type': 'Point', 'coordinates': [-74.097927, ...</td>\n",
       "    </tr>\n",
       "    <tr>\n",
       "      <th>4</th>\n",
       "      <td>5c6692ad7cb9799ee560e613</td>\n",
       "      <td>Chinese</td>\n",
       "      <td>D &amp; B Double Chinese Restaurant</td>\n",
       "      <td>{'type': 'Point', 'coordinates': [-74.0861942,...</td>\n",
       "    </tr>\n",
       "  </tbody>\n",
       "</table>\n",
       "</div>"
      ],
      "text/plain": [
       "                        _id   cuisine                             name  \\\n",
       "0  5c6692ad7cb9799ee5610be8   Italian                             Blue   \n",
       "1  5c6692ad7cb9799ee5610882   Italian                     Crispy Pizza   \n",
       "2  5c6692ad7cb9799ee560e28d  American          Ruth M Liedys Shore Inn   \n",
       "3  5c6692ad7cb9799ee56117d1  American                The Cuckoo'S Nest   \n",
       "4  5c6692ad7cb9799ee560e613   Chinese  D & B Double Chinese Restaurant   \n",
       "\n",
       "                                            position  \n",
       "0  {'type': 'Point', 'coordinates': [-74.1077385,...  \n",
       "1  {'type': 'Point', 'coordinates': [-74.0982604,...  \n",
       "2  {'type': 'Point', 'coordinates': [-74.097056, ...  \n",
       "3  {'type': 'Point', 'coordinates': [-74.097927, ...  \n",
       "4  {'type': 'Point', 'coordinates': [-74.0861942,...  "
      ]
     },
     "execution_count": 130,
     "metadata": {},
     "output_type": "execute_result"
    }
   ],
   "source": [
    "cursor = db.clean.find({\n",
    "  \"position\": {\n",
    "    \"$near\": {\n",
    "      \"$geometry\": {\n",
    "        \"type\": \"Point\",\n",
    "        \"coordinates\": [-74.1080159, 40.7046139]\n",
    "      },\n",
    "      \"$minDistance\": 0,\n",
    "      \"$maxDistance\":10000\n",
    "    }\n",
    "  }\n",
    "})\n",
    "\n",
    "import pandas as pd\n",
    "df = pd.DataFrame(list(cursor))\n",
    "df.head()"
   ]
  },
  {
   "cell_type": "code",
   "execution_count": 131,
   "metadata": {},
   "outputs": [],
   "source": [
    "coords_df = pd.DataFrame(pd.DataFrame(df[\"position\"].values.flatten().tolist())[\"coordinates\"].values.tolist())\n",
    "clean_df = pd.concat([df,coords_df],axis=1)\n",
    "clean_df.drop(['_id',\"position\"], inplace=True, axis=1)\n",
    "clean_df = clean_df.rename({0:\"long\",1:\"lat\"}, axis=1)\n"
   ]
  },
  {
   "cell_type": "code",
   "execution_count": 132,
   "metadata": {},
   "outputs": [],
   "source": [
    "clean_df.to_json('visualize_restaurants.json', orient=\"records\")"
   ]
  },
  {
   "cell_type": "code",
   "execution_count": null,
   "metadata": {},
   "outputs": [],
   "source": []
  }
 ],
 "metadata": {
  "kernelspec": {
   "display_name": "Python 3",
   "language": "python",
   "name": "python3"
  },
  "language_info": {
   "codemirror_mode": {
    "name": "ipython",
    "version": 3
   },
   "file_extension": ".py",
   "mimetype": "text/x-python",
   "name": "python",
   "nbconvert_exporter": "python",
   "pygments_lexer": "ipython3",
   "version": "3.7.1"
  }
 },
 "nbformat": 4,
 "nbformat_minor": 2
}
