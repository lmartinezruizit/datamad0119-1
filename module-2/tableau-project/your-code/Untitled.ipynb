{
 "cells": [
  {
   "cell_type": "code",
   "execution_count": 1,
   "metadata": {},
   "outputs": [],
   "source": [
    "import pymongo\n",
    "MongoClient = pymongo.MongoClient\n",
    "client = MongoClient()\n",
    "from geopy.geocoders import Nominatim\n",
    "import pandas as pd\n"
   ]
  },
  {
   "cell_type": "code",
   "execution_count": null,
   "metadata": {},
   "outputs": [],
   "source": [
    "def create_db(name):\n",
    "    db_clean = client.name"
   ]
  },
  {
   "cell_type": "code",
   "execution_count": 33,
   "metadata": {},
   "outputs": [
    {
     "name": "stderr",
     "output_type": "stream",
     "text": [
      "/home/luis/anaconda3/lib/python3.7/site-packages/ipykernel_launcher.py:56: DeprecationWarning: count is deprecated. Use estimated_document_count or count_documents instead. Please note that $where must be replaced by $expr, $near must be replaced by $geoWithin with $center, and $nearSphere must be replaced by $geoWithin with $centerSphere\n"
     ]
    },
    {
     "data": {
      "text/plain": [
       "81"
      ]
     },
     "execution_count": 33,
     "metadata": {},
     "output_type": "execute_result"
    }
   ],
   "source": [
    "filterquery ={\"$and\":\n",
    "    [\n",
    "     {\"$or\":\n",
    "        [\n",
    "            {\"category_code\": \"software\"},\n",
    "            {\"category_code\": \"web\"},\n",
    "            {\"category_code\": \"mobile\"},\n",
    "            {\"category_code\": \"games_video\"}\n",
    "        ]},\n",
    "      {\"$and\":\n",
    "         [\n",
    "             {\"founded_year\": {\"$gt\":2000}},\n",
    "             {\"$or\":\n",
    "              [\n",
    "                 {\"deadpooled_year\":{\"$eq\": None}},\n",
    "                 {\"deadpooled_year\":{\"$exists\":False}}\n",
    "              ]\n",
    "             }\n",
    "         ]},\n",
    "              {\"$and\":\n",
    "       [\n",
    "          {\"relationships.title\":{'$regex':'Software Engineer'}},\n",
    "          {\"$or\":\n",
    "             [\n",
    "                 {\"$or\":\n",
    "                     [\n",
    "                         {\"relationships.title\":{'$regex':'[Dd]esigner'}},\n",
    "                         {\"relationships.title\":{'$regex':'[Cc]reative'}},\n",
    "                         {\"relationships.title\":{'$regex':'U[XI]'}},\n",
    "                         {\"relationships.title\":{'$regex':'[Cc]reative'}},\n",
    "                     ]},\n",
    "                 {\"relationships.title\":{'$regex':'[Dd]evelopers'}},\n",
    "                 {\"$or\":\n",
    "                     [\n",
    "                         {\"relationships.title\":{'$regex':'[Ee]xecutive'}},\n",
    "                         {\"relationships.title\":{'$regex':'[Mm]anager'}}\n",
    "                     ]} \n",
    "            ]\n",
    "          }\n",
    "       ]\n",
    "      }\n",
    "    ]\n",
    "}\n",
    "\n",
    "# cursor = db.companies.find(filterquery)\n",
    "# res=list(map(lambda r: [r['name'],r[\"offices\"]],cursor))\n",
    "# for i in res:\n",
    "#     for j in i[1]:\n",
    "#         if not j['latitude'] or not j['longitude']:\n",
    "#             geolocator = Nominatim(user_agent=\"tableau-project\")\n",
    "#             location = geolocator.geocode(j['address1']+\",\"+j['city'])\n",
    "#             print(location.address)\n",
    "#             print((location.latitude, location.longitude))\n",
    "#         else:\n",
    "#             print((j['latitude'],j['longitude']))\n",
    "db.companies.count(filterquery)\n",
    "\n",
    "\n",
    "# {\"relationships.title\":/Executive/}"
   ]
  },
  {
   "cell_type": "code",
   "execution_count": 37,
   "metadata": {},
   "outputs": [],
   "source": [
    "def filterData(filterquery):\n",
    "    cursor = db.companies.find(filterquery)\n",
    "    geoCompanies = list(map(lambda c: convertCompanies(c),cursor))\n",
    "    return geoCompanies\n",
    "    \n",
    "def toGeoJSON(array):\n",
    "    coor=['','']\n",
    "    for i in array:\n",
    "        geolocator = Nominatim(user_agent=\"tableau-project\")\n",
    "        \n",
    "        if not i['latitude'] or not i['longitude']:\n",
    "            if i['address1'] != '' and i['city'] != '' and i['address1'] != None and i['city'] != None:\n",
    "                location = geolocator.geocode(i['address1'])\n",
    "                if location != None:\n",
    "                    coor=[location.longitude,location.latitude]\n",
    "            elif i['address1'] != '' and not i['address1']:\n",
    "                location = geolocator.geocode(i['address1'])\n",
    "                coor=[location.longitude,location.latitude]\n",
    "        else:\n",
    "            coor=[i['longitude'],i['latitude']]\n",
    "    if coor != ['','']:\n",
    "        return {\n",
    "            \"type\":\"Point\",\n",
    "            \"coordinates\":coor\n",
    "        }\n",
    "\n",
    "def convertCompanies(company):\n",
    "    return {\n",
    "        \"name\": company[\"name\"],\n",
    "        \"homepage_url\": company[\"homepage_url\"],\n",
    "        \"twitter_username\": company[\"twitter_username\"],\n",
    "        \"number_of_employees\": company[\"number_of_employees\"],\n",
    "        \"products\": company[\"products\"],\n",
    "        \"competitions\": company[\"competitions\"],\n",
    "        \"total_money_raised\": company[\"total_money_raised\"],\n",
    "        \"category_code\":company[\"category_code\"],\n",
    "        \"acquisition\": company[\"acquisition\"],\n",
    "        \"position\": toGeoJSON(company[\"offices\"])\n",
    "    }\n",
    "\n",
    "geoCompanies = filterData(filterquery)"
   ]
  },
  {
   "cell_type": "code",
   "execution_count": null,
   "metadata": {},
   "outputs": [],
   "source": [
    "# db.companies.create_index([(\"loc\", pymongo.GEOSPHERE)])"
   ]
  },
  {
   "cell_type": "markdown",
   "metadata": {},
   "source": [
    "### I suposse that startup is a company that have less than 10 and a new company is a company that was founded after 2000 because the max founded year is 2013"
   ]
  },
  {
   "cell_type": "code",
   "execution_count": 29,
   "metadata": {},
   "outputs": [],
   "source": [
    "# #Obtain longitude and latitude from adress that not appear in database\n",
    "# from geopy.geocoders import Nominatim\n",
    "# geolocator = Nominatim(user_agent=\"tableau-project\")\n",
    "# location = geolocator.geocode(\"257-A, Prashasan Nagar, Road 72\")\n",
    "# print(location.address)\n",
    "# print((location.latitude, location.longitude))"
   ]
  },
  {
   "cell_type": "code",
   "execution_count": 38,
   "metadata": {},
   "outputs": [],
   "source": [
    "df = pd.DataFrame(geoCompanies)\n",
    "df.head()\n",
    "df.to_json('clean_companies.json',orient=\"records\", lines=True)"
   ]
  },
  {
   "cell_type": "code",
   "execution_count": 80,
   "metadata": {},
   "outputs": [],
   "source": [
    "db_clean = client.clean_companies\n",
    "cursor_clean1 = db_clean.clean_companies.find()"
   ]
  },
  {
   "cell_type": "code",
   "execution_count": 106,
   "metadata": {},
   "outputs": [],
   "source": [
    "filterquery_2="
   ]
  },
  {
   "cell_type": "code",
   "execution_count": 126,
   "metadata": {},
   "outputs": [
    {
     "name": "stdout",
     "output_type": "stream",
     "text": [
      "2\n",
      "79\n"
     ]
    },
    {
     "name": "stderr",
     "output_type": "stream",
     "text": [
      "/home/luis/anaconda3/lib/python3.7/site-packages/ipykernel_launcher.py:1: DeprecationWarning: count is deprecated. Use estimated_document_count or count_documents instead. Please note that $where must be replaced by $expr, $near must be replaced by $geoWithin with $center, and $nearSphere must be replaced by $geoWithin with $centerSphere\n",
      "  \"\"\"Entry point for launching an IPython kernel.\n",
      "/home/luis/anaconda3/lib/python3.7/site-packages/ipykernel_launcher.py:18: DeprecationWarning: count is deprecated. Use estimated_document_count or count_documents instead. Please note that $where must be replaced by $expr, $near must be replaced by $geoWithin with $center, and $nearSphere must be replaced by $geoWithin with $centerSphere\n"
     ]
    }
   ],
   "source": [
    "print(db_clean.clean_companies.count({\"position\":{\"$eq\":None}}))\n",
    "def near_companies(cursor_cl):\n",
    "    cursor_clean=[]\n",
    "    for i in cursor_cl:\n",
    "        if i['position'] != None:\n",
    "            coord=i['position']['coordinates']\n",
    "            cursor_clean.append(db_clean.clean_companies.count({\"$and\":\n",
    "        [\n",
    "            {\"position\":{\"$ne\":None}},\n",
    "            {\n",
    "              \"position\": {\n",
    "                \"$near\": {\n",
    "                  \"$geometry\": {\n",
    "                    \"type\": \"Point\",\n",
    "                    \"coordinates\": coord\n",
    "                  },\n",
    "                  \"$minDistance\": 0,\n",
    "                  \"$maxDistance\":1000\n",
    "                }\n",
    "              }\n",
    "            }\n",
    "        ]\n",
    "      }))\n",
    "    return len(cursor_clean)\n",
    "#             print(i['name'],coord,cursor_clean)\n",
    "print(near_companies(client.clean_companies.clean_companies.find()))\n",
    "# print(list(map(lambda r: r['name'],cursor_clean)))"
   ]
  },
  {
   "cell_type": "code",
   "execution_count": null,
   "metadata": {},
   "outputs": [],
   "source": []
  },
  {
   "cell_type": "code",
   "execution_count": null,
   "metadata": {},
   "outputs": [],
   "source": [
    "# def filterData(filterquery):\n",
    "#     cursor = db.companies.find(filterquery)\n",
    "#     geoCompanies = list(map(lambda c: convertCompanies(c),cursor))\n",
    "#     return geoCompanies\n",
    "    \n",
    "# def toGeoJSON(array):\n",
    "#     for i in array:\n",
    "#         if not i['latitude'] or not i['longitude']:\n",
    "#             geolocator = Nominatim(user_agent=\"tableau-project\")\n",
    "#             location = geolocator.geocode(i['address1']+\",\"+i['city'])\n",
    "#             coor=[location.longitude,location.latitude]\n",
    "#         else:\n",
    "#             coor=[i['longitude'],i['latitude']]\n",
    "#     return {\n",
    "#         \"type\":\"Point\",\n",
    "#         \"coordinates\":coor\n",
    "#     }\n",
    "\n",
    "# def convertCompanies(company):\n",
    "#     return {\n",
    "#         \"name\": company[\"name\"],\n",
    "#         \"category_code\":company[\"category_code\"],\n",
    "#         \"position\": toGeoJSON(company[\"offices\"])\n",
    "#     }\n",
    "\n",
    "# geoCompanies = filterData(filterquery)\n",
    "# print(geoCompanies)"
   ]
  }
 ],
 "metadata": {
  "kernelspec": {
   "display_name": "Python 3",
   "language": "python",
   "name": "python3"
  },
  "language_info": {
   "codemirror_mode": {
    "name": "ipython",
    "version": 3
   },
   "file_extension": ".py",
   "mimetype": "text/x-python",
   "name": "python",
   "nbconvert_exporter": "python",
   "pygments_lexer": "ipython3",
   "version": "3.7.1"
  }
 },
 "nbformat": 4,
 "nbformat_minor": 2
}
