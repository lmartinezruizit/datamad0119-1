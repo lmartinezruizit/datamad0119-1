{
 "cells": [
  {
   "cell_type": "code",
   "execution_count": 2,
   "metadata": {},
   "outputs": [],
   "source": [
    "import pymongo\n",
    "MongoClient = pymongo.MongoClient\n",
    "client = MongoClient()\n",
    "db = client.companies"
   ]
  },
  {
   "cell_type": "code",
   "execution_count": 42,
   "metadata": {},
   "outputs": [
    {
     "name": "stderr",
     "output_type": "stream",
     "text": [
      "/home/luis/anaconda3/lib/python3.7/site-packages/ipykernel_launcher.py:38: DeprecationWarning: count is deprecated. Use estimated_document_count or count_documents instead. Please note that $where must be replaced by $expr, $near must be replaced by $geoWithin with $center, and $nearSphere must be replaced by $geoWithin with $centerSphere\n"
     ]
    },
    {
     "data": {
      "text/plain": [
       "0"
      ]
     },
     "execution_count": 42,
     "metadata": {},
     "output_type": "execute_result"
    }
   ],
   "source": [
    "filterquery = {\"$and\":\n",
    "    [\n",
    "     {\"$or\":\n",
    "        [\n",
    "            {\"category_code\": \"software\"},\n",
    "            {\"category_code\": \"web\"},\n",
    "            {\"category_code\": \"mobile\"},\n",
    "            {\"category_code\": \"games_video\"}\n",
    "        ]},\n",
    "      {\"number_of_employees\": {\"$gt\":10}},\n",
    "      {\"$and\":\n",
    "         [\n",
    "             {\"founded_year\": {\"$gt\":2010}},\n",
    "             {\"deadpooled_year\":{\"$ne\": None}},\n",
    "             {\"deadpooled_year\":{\"$exists\":True}}\n",
    "         ]},\n",
    "      {\"$and\":\n",
    "         [\n",
    "             {\"$or\":\n",
    "                 [\n",
    "                     {\"relationships.title\":{'$regex':'[Dd]esigner'}},\n",
    "                     {\"relationships.title\":{'$regex':'[Cc]reative'}},\n",
    "                     {\"relationships.title\":{'$regex':'U[XI]'}},\n",
    "                     {\"relationships.title\":{'$regex':'[Cc]reative'}},\n",
    "                 ]},\n",
    "             {\"relationships.title\":{'$regex':'[Dd]evelopers'}}\n",
    "        ]\n",
    "    }\n",
    "    ]\n",
    "}\n",
    "cursor = db.companies.find(filterquery)\n",
    "# print(list(map(lambda r: r[\"name\"],cursor)))\n",
    "db.companies.count(filterquery)\n",
    "\n",
    "\n",
    "# {\"relationships.title\":/Executive/}"
   ]
  },
  {
   "cell_type": "markdown",
   "metadata": {},
   "source": [
    "### I suposse that startup is a company that have less than 10"
   ]
  },
  {
   "cell_type": "code",
   "execution_count": null,
   "metadata": {},
   "outputs": [],
   "source": []
  },
  {
   "cell_type": "code",
   "execution_count": null,
   "metadata": {},
   "outputs": [],
   "source": [
    "def toGeoJSON(array):\n",
    "    return {\n",
    "        \"type\":\"Point\",\n",
    "        \"coordinates\":[array[0],array[1]]\n",
    "    }\n",
    "\n",
    "def convertRestaurant(restaurant):\n",
    "    return {\n",
    "        \"name\": restaurant[\"name\"],\n",
    "        \"cuisine\":restaurant[\"cuisine\"],\n",
    "        \"position\": toGeoJSON(restaurant[\"address\"][\"coord\"])\n",
    "    }\n",
    "\n",
    "cursor = db.restaurants.find({\"address.coord\":{\"$size\":2}},{\"_id\":0})\n",
    "geoRestaurants = list(map(lambda r: convertRestaurant(r),cursor))\n"
   ]
  }
 ],
 "metadata": {
  "kernelspec": {
   "display_name": "Python 3",
   "language": "python",
   "name": "python3"
  },
  "language_info": {
   "codemirror_mode": {
    "name": "ipython",
    "version": 3
   },
   "file_extension": ".py",
   "mimetype": "text/x-python",
   "name": "python",
   "nbconvert_exporter": "python",
   "pygments_lexer": "ipython3",
   "version": "3.7.1"
  }
 },
 "nbformat": 4,
 "nbformat_minor": 2
}
