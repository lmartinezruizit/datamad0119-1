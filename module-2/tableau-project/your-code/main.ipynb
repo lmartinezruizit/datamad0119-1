{
 "cells": [
  {
   "cell_type": "markdown",
   "metadata": {},
   "source": [
    "# Tableau project"
   ]
  },
  {
   "cell_type": "markdown",
   "metadata": {},
   "source": [
    "## Import libraries"
   ]
  },
  {
   "cell_type": "code",
   "execution_count": 1,
   "metadata": {},
   "outputs": [],
   "source": [
    "import pymongo\n",
    "MongoClient = pymongo.MongoClient\n",
    "client = MongoClient()\n",
    "from geopy.geocoders import Nominatim\n",
    "import pandas as pd\n",
    "import plotly as plotly\n",
    "import plotly.plotly as py\n",
    "import plotly.graph_objs as go\n",
    "from plotly.offline import *\n",
    "import matplotlib.pyplot as plt\n",
    "%matplotlib inline"
   ]
  },
  {
   "cell_type": "markdown",
   "metadata": {},
   "source": [
    "## Development Code\n"
   ]
  },
  {
   "cell_type": "markdown",
   "metadata": {},
   "source": [
    "##### Crear el cliente de bbdd y la llamada para filtrar los datos"
   ]
  },
  {
   "cell_type": "code",
   "execution_count": 2,
   "metadata": {},
   "outputs": [],
   "source": [
    "db = client.companies"
   ]
  },
  {
   "cell_type": "markdown",
   "metadata": {},
   "source": [
    "##### Esta consulta es muy específica, ya que se ha filtrado teniendo en cuenta toda la información dada en el enunciado del proyectos. Para que una empresa pase este filtro, tiene que cumplir cada uno de los siguientes casos:\n",
    "* Pertenecer a una de las siguientes categorías: \"software\",\"web\",\"mobile\" o \"games_video\"\n",
    "* Estar fundada despues del año 2000 y además que no haya quebrado\n",
    "* Contenter puestos de trabajo cuyo título sea \"Software Engineer\" y además contener alguno de los siguientes puestos:\n",
    " - \"Designer\", \"Creative\", \"UX\" o \"UI\"\n",
    " - \"Developers\"\n",
    " - \"Executive\" o \"Manager\""
   ]
  },
  {
   "cell_type": "code",
   "execution_count": 3,
   "metadata": {},
   "outputs": [],
   "source": [
    "filterquery ={\"$and\":\n",
    "    [\n",
    "     {\"$or\":\n",
    "        [\n",
    "            {\"category_code\": \"software\"},\n",
    "            {\"category_code\": \"web\"},\n",
    "            {\"category_code\": \"mobile\"},\n",
    "            {\"category_code\": \"games_video\"}\n",
    "        ]},\n",
    "      {\"$and\":\n",
    "         [\n",
    "             {\"founded_year\": {\"$gt\":2000}},\n",
    "             {\"$or\":\n",
    "              [\n",
    "                 {\"deadpooled_year\":{\"$eq\": None}},\n",
    "                 {\"deadpooled_year\":{\"$exists\":False}}\n",
    "              ]\n",
    "             }\n",
    "         ]},\n",
    "      {\"$and\":\n",
    "       [\n",
    "          {\"relationships.title\":{'$regex':'Software Engineer'}},\n",
    "          {\"$or\":\n",
    "             [\n",
    "                 {\"$or\":\n",
    "                     [\n",
    "                         {\"relationships.title\":{'$regex':'[Dd]esigner'}},\n",
    "                         {\"relationships.title\":{'$regex':'[Cc]reative'}},\n",
    "                         {\"relationships.title\":{'$regex':'U[XI]'}},\n",
    "                     ]},\n",
    "                 {\"relationships.title\":{'$regex':'[Dd]evelopers'}},\n",
    "                 {\"$or\":\n",
    "                     [\n",
    "                         {\"relationships.title\":{'$regex':'[Ee]xecutive'}},\n",
    "                         {\"relationships.title\":{'$regex':'[Mm]anager'}}\n",
    "                     ]} \n",
    "            ]\n",
    "          }\n",
    "       ]\n",
    "      }\n",
    "    ]\n",
    "}"
   ]
  },
  {
   "cell_type": "markdown",
   "metadata": {},
   "source": [
    "##### Se han creado las siguientes funciones con el objetivo de obtener los datos específicos que buscamos. Estas funciones se explican a continuación:\n",
    "* filterData: Recibe un cursor y un booleano(el cual se utiliza para devolver un resultado u otro en función de si estamos filtrando en la colección inicial o en la que ya está limpia). Su finalidad es obtener un JSON con todas las compañias que pasen el filtro especificado.\n",
    "* toGeoJSON: Recibe un array del cual obtiene la latitud y la longitud. Una vez tenga estos datos, crea un tipo \"Point\" con estas cordenadas. En esta función he tenido en cuenta las compañias que no cuentan con campos de latitud y longitud, por lo que para ellas he comprobado si contienen valores validos en los campos \"address1\" y \"city\", y con estos datos he obtenido los datos deseados usando el método \"geopy.geocoders\" de la librería \"Nominatim\"\n",
    "* convertCompanies: Recibe la compañia y un booleano, si el booleano es \"False\" devuelve el resultado de la colección inicial, y si es \"True\" devuelve el resultado de la colección limpia."
   ]
  },
  {
   "cell_type": "code",
   "execution_count": 4,
   "metadata": {},
   "outputs": [],
   "source": [
    "def filterData(cursor, clean=False):\n",
    "    geoCompanies = list(map(lambda c: convertCompanies(c,clean),cursor))\n",
    "    return geoCompanies\n",
    "    \n",
    "def toGeoJSON(array):\n",
    "    coor=['','']\n",
    "    for i in array:\n",
    "        geolocator = Nominatim(user_agent=\"tableau-project\")\n",
    "        \n",
    "        if not i['latitude'] or not i['longitude']:\n",
    "            if i['address1'] != '' and i['city'] != '' and i['address1'] != None and i['city'] != None:\n",
    "                location = geolocator.geocode(i['address1'])\n",
    "                if location != None:\n",
    "                    coor=[location.longitude,location.latitude]\n",
    "            elif i['address1'] != '' and not i['address1']:\n",
    "                location = geolocator.geocode(i['address1'])\n",
    "                coor=[location.longitude,location.latitude]\n",
    "        else:\n",
    "            coor=[i['longitude'],i['latitude']]\n",
    "    if coor != ['','']:\n",
    "        return {\n",
    "            \"type\":\"Point\",\n",
    "            \"coordinates\":coor\n",
    "        }\n",
    "\n",
    "def convertCompanies(company,clean):\n",
    "    result= {\n",
    "            \"name\": company[\"name\"],\n",
    "            \"homepage_url\": company[\"homepage_url\"],\n",
    "            \"number_of_employees\": company[\"number_of_employees\"],\n",
    "            \"total_money_raised\": company[\"total_money_raised\"],\n",
    "            \"category_code\":company[\"category_code\"]}\n",
    "    if not clean:\n",
    "        result.update({\"position\": toGeoJSON(company[\"offices\"])})\n",
    "    else:\n",
    "        result.update({\n",
    "            \"position\": company[\"position\"],\n",
    "            \"near_companies\": near_companies(company)\n",
    "        })\n",
    "    return result\n",
    "\n",
    "geoCompanies = filterData(db.companies.find(filterquery))"
   ]
  },
  {
   "cell_type": "markdown",
   "metadata": {},
   "source": [
    "##### Se crea un dataFrame con los datos obtenidos en el filtrado y se importa a un fichero JSON para posteriormente crear una nueva colección con estos datos"
   ]
  },
  {
   "cell_type": "code",
   "execution_count": 5,
   "metadata": {},
   "outputs": [],
   "source": [
    "df = pd.DataFrame(geoCompanies)\n",
    "df.to_json('clean_companies.json',orient=\"records\", lines=True)"
   ]
  },
  {
   "cell_type": "markdown",
   "metadata": {},
   "source": [
    "##### Crear el cliente de bbdd para la colección limpia"
   ]
  },
  {
   "cell_type": "code",
   "execution_count": 6,
   "metadata": {},
   "outputs": [],
   "source": [
    "db_clean = client.clean_companies"
   ]
  },
  {
   "cell_type": "markdown",
   "metadata": {},
   "source": [
    "##### Se crea una función, la cual obtiene el número de empresas que se encuentran en un radio de 2km, para cada una de las empresas"
   ]
  },
  {
   "cell_type": "code",
   "execution_count": 7,
   "metadata": {},
   "outputs": [],
   "source": [
    "def near_companies(array):\n",
    "    if array['position'] != None:\n",
    "        coord=array['position']['coordinates']\n",
    "        value=db_clean.clean_companies.count({\"$and\":\n",
    "    [\n",
    "        {\"position\":{\"$ne\":None}},\n",
    "        {\n",
    "          \"position\": {\n",
    "            \"$near\": {\n",
    "              \"$geometry\": {\n",
    "                \"type\": \"Point\",\n",
    "                \"coordinates\": coord\n",
    "              },\n",
    "              \"$minDistance\": 0,\n",
    "              \"$maxDistance\":2000\n",
    "            }\n",
    "          }\n",
    "        }\n",
    "    ]\n",
    "  })\n",
    "        return value"
   ]
  },
  {
   "cell_type": "markdown",
   "metadata": {},
   "source": [
    "##### Se llama a la función filterData para obtener los datos deseados en el nuevo dataFrame"
   ]
  },
  {
   "cell_type": "code",
   "execution_count": 8,
   "metadata": {},
   "outputs": [
    {
     "name": "stderr",
     "output_type": "stream",
     "text": [
      "/home/luis/anaconda3/lib/python3.7/site-packages/ipykernel_launcher.py:15: DeprecationWarning:\n",
      "\n",
      "count is deprecated. Use estimated_document_count or count_documents instead. Please note that $where must be replaced by $expr, $near must be replaced by $geoWithin with $center, and $nearSphere must be replaced by $geoWithin with $centerSphere\n",
      "\n"
     ]
    }
   ],
   "source": [
    "filterquery2={\"$and\":[{\"position\":{\"$ne\":None}},{\"total_money_raised\":{\"$ne\":\"$0\"}}]}\n",
    "c_n_companies=filterData(db_clean.clean_companies.find(filterquery2),True)\n"
   ]
  },
  {
   "cell_type": "markdown",
   "metadata": {},
   "source": [
    "##### Limpiamos el dataFrame actual, para ello seguimos las siguientes pautas:\n",
    "* Obtenemos los valores de la latitud y la longitud del campo tipo \"Point\" para guardarlas en dos columnas distintas.\n",
    "* Filtramos el dataFrame para quedarnos únicamente con las compañias que tengan 4 o más empresas cerca.\n",
    "* Creamos un campo denominado ciudad, para ello se ha vuelto a utilizar el método \"geopy.geocoders\" de la librería \"Nominatim\"\n",
    "* Eliminamos los registros que contengan una ganancias iguales a 0(campo \"total_money_raised), debido a que no me interesan ya que mi futura empresas tiene que tener ganancias para poder subsistir.\n",
    "* Obtenemos el valor numérico del campo \"total_money_raised\" y lo convertimos a float para posteriormente trabajar con el."
   ]
  },
  {
   "cell_type": "code",
   "execution_count": 9,
   "metadata": {},
   "outputs": [
    {
     "data": {
      "text/html": [
       "<div>\n",
       "<style scoped>\n",
       "    .dataframe tbody tr th:only-of-type {\n",
       "        vertical-align: middle;\n",
       "    }\n",
       "\n",
       "    .dataframe tbody tr th {\n",
       "        vertical-align: top;\n",
       "    }\n",
       "\n",
       "    .dataframe thead th {\n",
       "        text-align: right;\n",
       "    }\n",
       "</style>\n",
       "<table border=\"1\" class=\"dataframe\">\n",
       "  <thead>\n",
       "    <tr style=\"text-align: right;\">\n",
       "      <th></th>\n",
       "      <th>category_code</th>\n",
       "      <th>homepage_url</th>\n",
       "      <th>name</th>\n",
       "      <th>near_companies</th>\n",
       "      <th>number_of_employees</th>\n",
       "      <th>total_money_raised</th>\n",
       "      <th>long</th>\n",
       "      <th>lat</th>\n",
       "      <th>city</th>\n",
       "    </tr>\n",
       "  </thead>\n",
       "  <tbody>\n",
       "    <tr>\n",
       "      <th>3</th>\n",
       "      <td>web</td>\n",
       "      <td>http://seesmic.com</td>\n",
       "      <td>Seesmic</td>\n",
       "      <td>5</td>\n",
       "      <td>13.0</td>\n",
       "      <td>16.0</td>\n",
       "      <td>-122.419204</td>\n",
       "      <td>37.775196</td>\n",
       "      <td>SF, California</td>\n",
       "    </tr>\n",
       "    <tr>\n",
       "      <th>9</th>\n",
       "      <td>games_video</td>\n",
       "      <td>http://ilike.com</td>\n",
       "      <td>iLike</td>\n",
       "      <td>4</td>\n",
       "      <td>28.0</td>\n",
       "      <td>16.5</td>\n",
       "      <td>-122.323408</td>\n",
       "      <td>47.615313</td>\n",
       "      <td>King County, Washington</td>\n",
       "    </tr>\n",
       "    <tr>\n",
       "      <th>12</th>\n",
       "      <td>software</td>\n",
       "      <td>http://www.xobni.com</td>\n",
       "      <td>Xobni</td>\n",
       "      <td>13</td>\n",
       "      <td>0.0</td>\n",
       "      <td>41.8</td>\n",
       "      <td>-122.404052</td>\n",
       "      <td>37.789634</td>\n",
       "      <td>SF, California</td>\n",
       "    </tr>\n",
       "    <tr>\n",
       "      <th>15</th>\n",
       "      <td>web</td>\n",
       "      <td>http://www.disqus.com</td>\n",
       "      <td>Disqus</td>\n",
       "      <td>12</td>\n",
       "      <td>43.0</td>\n",
       "      <td>10.5</td>\n",
       "      <td>-122.397672</td>\n",
       "      <td>37.786906</td>\n",
       "      <td>SF, California</td>\n",
       "    </tr>\n",
       "    <tr>\n",
       "      <th>20</th>\n",
       "      <td>web</td>\n",
       "      <td>http://www.eventbrite.com</td>\n",
       "      <td>Eventbrite</td>\n",
       "      <td>13</td>\n",
       "      <td>200.0</td>\n",
       "      <td>140.0</td>\n",
       "      <td>-122.390710</td>\n",
       "      <td>37.779507</td>\n",
       "      <td>SF, California</td>\n",
       "    </tr>\n",
       "    <tr>\n",
       "      <th>21</th>\n",
       "      <td>mobile</td>\n",
       "      <td>http://www.pelago.com</td>\n",
       "      <td>Pelago</td>\n",
       "      <td>4</td>\n",
       "      <td>NaN</td>\n",
       "      <td>22.4</td>\n",
       "      <td>-122.335373</td>\n",
       "      <td>47.607065</td>\n",
       "      <td>King County, Washington</td>\n",
       "    </tr>\n",
       "    <tr>\n",
       "      <th>25</th>\n",
       "      <td>web</td>\n",
       "      <td>http://hubpages.com</td>\n",
       "      <td>HubPages</td>\n",
       "      <td>12</td>\n",
       "      <td>21.0</td>\n",
       "      <td>8.0</td>\n",
       "      <td>-122.399151</td>\n",
       "      <td>37.787695</td>\n",
       "      <td>SF, California</td>\n",
       "    </tr>\n",
       "    <tr>\n",
       "      <th>28</th>\n",
       "      <td>games_video</td>\n",
       "      <td>http://www.zynga.com</td>\n",
       "      <td>Zynga</td>\n",
       "      <td>6</td>\n",
       "      <td>115.0</td>\n",
       "      <td>860.0</td>\n",
       "      <td>-122.404234</td>\n",
       "      <td>37.765158</td>\n",
       "      <td>SF, California</td>\n",
       "    </tr>\n",
       "    <tr>\n",
       "      <th>30</th>\n",
       "      <td>software</td>\n",
       "      <td>http://www.doubletwist.com</td>\n",
       "      <td>doubleTwist</td>\n",
       "      <td>5</td>\n",
       "      <td>NaN</td>\n",
       "      <td>7.5</td>\n",
       "      <td>-122.419204</td>\n",
       "      <td>37.775196</td>\n",
       "      <td>SF, California</td>\n",
       "    </tr>\n",
       "    <tr>\n",
       "      <th>32</th>\n",
       "      <td>games_video</td>\n",
       "      <td>http://www.playfirst.com</td>\n",
       "      <td>PlayFirst</td>\n",
       "      <td>12</td>\n",
       "      <td>NaN</td>\n",
       "      <td>37.7</td>\n",
       "      <td>-122.401850</td>\n",
       "      <td>37.790346</td>\n",
       "      <td>SF, California</td>\n",
       "    </tr>\n",
       "    <tr>\n",
       "      <th>44</th>\n",
       "      <td>web</td>\n",
       "      <td>http://www.okcupid.com</td>\n",
       "      <td>OkCupid</td>\n",
       "      <td>5</td>\n",
       "      <td>NaN</td>\n",
       "      <td>6.0</td>\n",
       "      <td>-73.995543</td>\n",
       "      <td>40.736816</td>\n",
       "      <td>NYC, New York</td>\n",
       "    </tr>\n",
       "    <tr>\n",
       "      <th>45</th>\n",
       "      <td>web</td>\n",
       "      <td>http://www.genbook.com</td>\n",
       "      <td>Genbook</td>\n",
       "      <td>12</td>\n",
       "      <td>12.0</td>\n",
       "      <td>2.2</td>\n",
       "      <td>-122.400779</td>\n",
       "      <td>37.789902</td>\n",
       "      <td>SF, California</td>\n",
       "    </tr>\n",
       "    <tr>\n",
       "      <th>47</th>\n",
       "      <td>web</td>\n",
       "      <td>http://www.huddler.com</td>\n",
       "      <td>Huddler</td>\n",
       "      <td>12</td>\n",
       "      <td>52.0</td>\n",
       "      <td>22.8</td>\n",
       "      <td>-122.401362</td>\n",
       "      <td>37.789321</td>\n",
       "      <td>SF, California</td>\n",
       "    </tr>\n",
       "    <tr>\n",
       "      <th>64</th>\n",
       "      <td>mobile</td>\n",
       "      <td>http://squareup.com</td>\n",
       "      <td>Square</td>\n",
       "      <td>6</td>\n",
       "      <td>600.0</td>\n",
       "      <td>341.0</td>\n",
       "      <td>-122.417368</td>\n",
       "      <td>37.775115</td>\n",
       "      <td>SF, California</td>\n",
       "    </tr>\n",
       "    <tr>\n",
       "      <th>65</th>\n",
       "      <td>mobile</td>\n",
       "      <td>http://foursquare.com</td>\n",
       "      <td>Foursquare</td>\n",
       "      <td>16</td>\n",
       "      <td>170.0</td>\n",
       "      <td>147.0</td>\n",
       "      <td>-122.403013</td>\n",
       "      <td>37.781345</td>\n",
       "      <td>SF, California</td>\n",
       "    </tr>\n",
       "  </tbody>\n",
       "</table>\n",
       "</div>"
      ],
      "text/plain": [
       "   category_code                homepage_url         name  near_companies  \\\n",
       "3            web          http://seesmic.com      Seesmic               5   \n",
       "9    games_video            http://ilike.com        iLike               4   \n",
       "12      software        http://www.xobni.com        Xobni              13   \n",
       "15           web       http://www.disqus.com       Disqus              12   \n",
       "20           web   http://www.eventbrite.com   Eventbrite              13   \n",
       "21        mobile       http://www.pelago.com       Pelago               4   \n",
       "25           web         http://hubpages.com     HubPages              12   \n",
       "28   games_video        http://www.zynga.com        Zynga               6   \n",
       "30      software  http://www.doubletwist.com  doubleTwist               5   \n",
       "32   games_video    http://www.playfirst.com    PlayFirst              12   \n",
       "44           web      http://www.okcupid.com      OkCupid               5   \n",
       "45           web      http://www.genbook.com      Genbook              12   \n",
       "47           web      http://www.huddler.com      Huddler              12   \n",
       "64        mobile         http://squareup.com       Square               6   \n",
       "65        mobile       http://foursquare.com   Foursquare              16   \n",
       "\n",
       "    number_of_employees  total_money_raised        long        lat  \\\n",
       "3                  13.0                16.0 -122.419204  37.775196   \n",
       "9                  28.0                16.5 -122.323408  47.615313   \n",
       "12                  0.0                41.8 -122.404052  37.789634   \n",
       "15                 43.0                10.5 -122.397672  37.786906   \n",
       "20                200.0               140.0 -122.390710  37.779507   \n",
       "21                  NaN                22.4 -122.335373  47.607065   \n",
       "25                 21.0                 8.0 -122.399151  37.787695   \n",
       "28                115.0               860.0 -122.404234  37.765158   \n",
       "30                  NaN                 7.5 -122.419204  37.775196   \n",
       "32                  NaN                37.7 -122.401850  37.790346   \n",
       "44                  NaN                 6.0  -73.995543  40.736816   \n",
       "45                 12.0                 2.2 -122.400779  37.789902   \n",
       "47                 52.0                22.8 -122.401362  37.789321   \n",
       "64                600.0               341.0 -122.417368  37.775115   \n",
       "65                170.0               147.0 -122.403013  37.781345   \n",
       "\n",
       "                        city  \n",
       "3             SF, California  \n",
       "9    King County, Washington  \n",
       "12            SF, California  \n",
       "15            SF, California  \n",
       "20            SF, California  \n",
       "21   King County, Washington  \n",
       "25            SF, California  \n",
       "28            SF, California  \n",
       "30            SF, California  \n",
       "32            SF, California  \n",
       "44             NYC, New York  \n",
       "45            SF, California  \n",
       "47            SF, California  \n",
       "64            SF, California  \n",
       "65            SF, California  "
      ]
     },
     "execution_count": 9,
     "metadata": {},
     "output_type": "execute_result"
    }
   ],
   "source": [
    "df = pd.DataFrame(c_n_companies)\n",
    "\n",
    "def dataframe_final(df):\n",
    "    coords_df = pd.DataFrame(pd.DataFrame(df[\"position\"].values.flatten().tolist())[\"coordinates\"].values.tolist())\n",
    "    clean_df = pd.concat([df,coords_df],axis=1)\n",
    "    clean_df.drop(\"position\", inplace=True, axis=1)\n",
    "    clean_df = clean_df.rename({0:\"long\",1:\"lat\"}, axis=1)\n",
    "    clean_df.drop_duplicates(subset =[\"category_code\",\"name\"], \n",
    "                         keep = False, inplace = True)\n",
    "    clean_df.drop(clean_df[clean_df[\"near_companies\"] < 4].index, inplace=True)\n",
    "    clean_df.drop(clean_df[clean_df[\"total_money_raised\"] == \"$0\"].index, inplace=True)\n",
    "    geolocator = Nominatim(user_agent=\"tableau-project\")\n",
    "    city=[','.join(geolocator.reverse([clean_df.lat.values[i],clean_df.long.values[i]]).address.split(\",\")[-4:-2]) for i in range(len(clean_df.lat.values))]\n",
    "    clean_df[\"city\"]=city\n",
    "    clean_df['total_money_raised']=clean_df['total_money_raised'].str.extract('(\\d+\\.?\\d?)').astype(float)\n",
    "    return clean_df\n",
    "data_final=dataframe_final(df)\n",
    "data_final"
   ]
  },
  {
   "cell_type": "markdown",
   "metadata": {},
   "source": [
    "##### Obtenemos el JSON final, con el cual vamos a trabajar y vamos a utilizar para obtener el mapa tanto en tableau como con la librería \"plotly\""
   ]
  },
  {
   "cell_type": "code",
   "execution_count": 10,
   "metadata": {},
   "outputs": [],
   "source": [
    "data_final.to_json('visualize_companies.json', orient=\"records\")"
   ]
  },
  {
   "cell_type": "markdown",
   "metadata": {},
   "source": [
    "##### Creamos una función la cual genera un mapa que contiene los puntos exactos en los que se encuentran las empresas que hemos obtenido durante el proyecto"
   ]
  },
  {
   "cell_type": "code",
   "execution_count": 11,
   "metadata": {},
   "outputs": [
    {
     "name": "stderr",
     "output_type": "stream",
     "text": [
      "/home/luis/anaconda3/lib/python3.7/site-packages/plotly/offline/offline.py:635: UserWarning:\n",
      "\n",
      "Your filename `Companies` didn't end with .html. Adding .html to the end of your file.\n",
      "\n"
     ]
    }
   ],
   "source": [
    "def map_chart(df):\n",
    "    mapbox_access_token = 'pk.eyJ1IjoibG1hcnRpbmV6cnVpeml0IiwiYSI6ImNqcnV2NTNycjE3ZnQzeXFzbHk3NXB5MjYifQ.Namsd_wjsdPevALwq2YTmQ'\n",
    "\n",
    "    site_lat = df.lat\n",
    "    site_lon = df.long\n",
    "    locations_name = df.name\n",
    "\n",
    "    df2 = [\n",
    "        go.Scattermapbox(\n",
    "            lat=site_lat,\n",
    "            lon=site_lon,\n",
    "            mode='markers',\n",
    "            marker=dict(\n",
    "                size=17,\n",
    "                color='rgb(255, 0, 0)',\n",
    "                opacity=0.7\n",
    "            ),\n",
    "            hoverinfo='text',\n",
    "            text=locations_name\n",
    "            \n",
    "        ),\n",
    "        go.Scattermapbox(\n",
    "            lat=site_lat,\n",
    "            lon=site_lon,\n",
    "            mode='markers',\n",
    "            marker=dict(\n",
    "                size=8,\n",
    "                color='rgb(242, 177, 172)',\n",
    "                opacity=0.7\n",
    "            ),\n",
    "\n",
    "            hovertext=locations_name+\":: url: \"+df.homepage_url,\n",
    "        )]\n",
    "            \n",
    "    layout = go.Layout(\n",
    "        title='Companies',\n",
    "        autosize=True,\n",
    "        hovermode='closest',\n",
    "        showlegend=False,\n",
    "        mapbox=dict(\n",
    "            accesstoken=mapbox_access_token,\n",
    "            bearing=0,\n",
    "            center=dict(\n",
    "                lat=38,\n",
    "                lon=-94\n",
    "            ),\n",
    "            pitch=0,\n",
    "            zoom=3,\n",
    "            style='light'\n",
    "        ),\n",
    "    )\n",
    "    fig = dict(data=df2, layout=layout)\n",
    "    plotly.offline.plot(fig, filename='Companies' )\n",
    "map_chart(data_final)"
   ]
  },
  {
   "cell_type": "markdown",
   "metadata": {},
   "source": [
    "##### Una vez hemos obtenido los puntos, analizamos que lugar es el más adecuado en función de una serie de parámetros"
   ]
  },
  {
   "cell_type": "code",
   "execution_count": 12,
   "metadata": {},
   "outputs": [
    {
     "data": {
      "text/plain": [
       "Text(0.5, 0, 'City')"
      ]
     },
     "execution_count": 12,
     "metadata": {},
     "output_type": "execute_result"
    },
    {
     "data": {
      "image/png": "[encoded data removed]",
      "text/plain": [
       "<Figure size 864x288 with 3 Axes>"
      ]
     },
     "metadata": {
      "needs_background": "light"
     },
     "output_type": "display_data"
    }
   ],
   "source": [
    "fig,(ax1,ax2,ax3)=plt.subplots(1,3,figsize=(12,4))\n",
    "data_final.groupby(['city'])['total_money_raised'].mean().plot.bar(ax=ax1).grid()\n",
    "ax1.set_title('Rank by total money raised')\n",
    "ax1.set_ylabel('Money raised')\n",
    "ax1.set_xlabel('City')\n",
    "\n",
    "#2\n",
    "data_final.groupby(['city','category_code'])['name'].count().unstack('category_code').plot.bar(ax=ax2).grid()\n",
    "ax2.set_title('Rank by category code')\n",
    "ax2.set_ylabel('Count companies by category code')\n",
    "ax2.set_xlabel('City')\n",
    "\n",
    "data_final.groupby(['city'])['number_of_employees'].mean().plot.bar(ax=ax3).grid()\n",
    "ax3.set_title('Rank by number of employees')\n",
    "ax3.set_ylabel('Mean number of employees')\n",
    "ax3.set_xlabel('City')"
   ]
  },
  {
   "cell_type": "markdown",
   "metadata": {},
   "source": [
    "#### Mapa: https://eu-west-1a.online.tableau.com/#/site/companiestableauproject/views/Companiestableau/Hoja1?:iid=6"
   ]
  },
  {
   "cell_type": "markdown",
   "metadata": {},
   "source": [
    "### Conclusión: California es el sitio más adecuado, ya que es mejor en todos los aspectos analizados"
   ]
  }
 ],
 "metadata": {
  "kernelspec": {
   "display_name": "Python 3",
   "language": "python",
   "name": "python3"
  },
  "language_info": {
   "codemirror_mode": {
    "name": "ipython",
    "version": 3
   },
   "file_extension": ".py",
   "mimetype": "text/x-python",
   "name": "python",
   "nbconvert_exporter": "python",
   "pygments_lexer": "ipython3",
   "version": "3.7.1"
  }
 },
 "nbformat": 4,
 "nbformat_minor": 2
}
